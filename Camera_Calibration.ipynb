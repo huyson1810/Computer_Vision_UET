{
  "nbformat": 4,
  "nbformat_minor": 0,
  "metadata": {
    "colab": {
      "name": "Camera_Calibration",
      "provenance": []
    },
    "kernelspec": {
      "name": "python3",
      "display_name": "Python 3"
    }
  },
  "cells": [
    {
      "cell_type": "code",
      "metadata": {
        "id": "O6kqqRKjGfH0",
        "colab": {
          "base_uri": "https://localhost:8080/"
        },
        "outputId": "9414ea7d-6db3-4157-db64-4cf387695130"
      },
      "source": [
        "pip install opencv-python"
      ],
      "execution_count": null,
      "outputs": [
        {
          "output_type": "stream",
          "text": [
            "Requirement already satisfied: opencv-python in /usr/local/lib/python3.7/dist-packages (4.1.2.30)\n",
            "Requirement already satisfied: numpy>=1.14.5 in /usr/local/lib/python3.7/dist-packages (from opencv-python) (1.19.5)\n"
          ],
          "name": "stdout"
        }
      ]
    },
    {
      "cell_type": "code",
      "metadata": {
        "colab": {
          "base_uri": "https://localhost:8080/"
        },
        "id": "oNy0W30NEBop",
        "outputId": "ece50b20-b2b8-4871-ac50-eb21cd012c87"
      },
      "source": [
        "pip install numpy"
      ],
      "execution_count": null,
      "outputs": [
        {
          "output_type": "stream",
          "text": [
            "Requirement already satisfied: numpy in /usr/local/lib/python3.7/dist-packages (1.19.5)\n"
          ],
          "name": "stdout"
        }
      ]
    },
    {
      "cell_type": "code",
      "metadata": {
        "colab": {
          "base_uri": "https://localhost:8080/"
        },
        "id": "058LmACsSZif",
        "outputId": "4f4a9d6b-b028-4d21-de78-0ecc856cb372"
      },
      "source": [
        "!pip install opencv-python opencv-contrib-python numpy"
      ],
      "execution_count": 11,
      "outputs": [
        {
          "output_type": "stream",
          "text": [
            "Requirement already satisfied: opencv-python in /usr/local/lib/python3.7/dist-packages (4.1.2.30)\n",
            "Requirement already satisfied: opencv-contrib-python in /usr/local/lib/python3.7/dist-packages (4.1.2.30)\n",
            "Requirement already satisfied: numpy in /usr/local/lib/python3.7/dist-packages (1.19.5)\n"
          ],
          "name": "stdout"
        }
      ]
    },
    {
      "cell_type": "code",
      "metadata": {
        "id": "kmuIg08NEIsN"
      },
      "source": [
        "import cv2 # Import the OpenCV library to enable computer vision\r\n",
        "import numpy as np # Import the NumPy scientific computing library\r\n",
        "import glob # Used to get retrieve files that have a specified pattern"
      ],
      "execution_count": null,
      "outputs": []
    },
    {
      "cell_type": "code",
      "metadata": {
        "id": "lwz5caKOINyT",
        "colab": {
          "base_uri": "https://localhost:8080/"
        },
        "outputId": "94c19052-3bb2-41b2-85cf-02311fa5134b"
      },
      "source": [
        "from google.colab import drive\r\n",
        "drive.mount('/content/drive')"
      ],
      "execution_count": 6,
      "outputs": [
        {
          "output_type": "stream",
          "text": [
            "Mounted at /content/drive\n"
          ],
          "name": "stdout"
        }
      ]
    },
    {
      "cell_type": "code",
      "metadata": {
        "colab": {
          "base_uri": "https://localhost:8080/"
        },
        "id": "VvK2P328QfOy",
        "outputId": "f380bb4d-9186-4d4a-ca55-c2cb9c98ddc8"
      },
      "source": [
        "!ls '/content/drive/MyDrive/UET/Kì 2 - năm 3 - 2020_2021/Computer Vision'\r\n"
      ],
      "execution_count": 10,
      "outputs": [
        {
          "output_type": "stream",
          "text": [
            "Camera_calibration\n"
          ],
          "name": "stdout"
        }
      ]
    },
    {
      "cell_type": "code",
      "metadata": {
        "id": "YrB-_lx0UT3n"
      },
      "source": [
        "# termination criteria\r\n",
        "criteria = (cv2.TERM_CRITERIA_EPS + cv2.TERM_CRITERIA_MAX_ITER, 30, 0.001)"
      ],
      "execution_count": 15,
      "outputs": []
    },
    {
      "cell_type": "code",
      "metadata": {
        "id": "wjXaOOo3Ru4o"
      },
      "source": [
        "\r\n",
        "def calibrate(dirpath, prefix, image_format, square_size, width=9, height=6):\r\n",
        "    \"\"\" Apply camera calibration operation for images in the given directory path. \"\"\"\r\n",
        "    # prepare object points, like (0,0,0), (1,0,0), (2,0,0) ....,(8,6,0)\r\n",
        "    objp = np.zeros((height*width, 3), np.float32)\r\n",
        "    objp[:, :2] = np.mgrid[0:width, 0:height].T.reshape(-1, 2)\r\n",
        "    \r\n",
        "    #objp is our chessboard matrix.\r\n",
        "    objp = objp * square_size\r\n",
        "\r\n",
        "    # Arrays to store object points and image points from all the images.\r\n",
        "    objpoints = []  # 3d point in real world space\r\n",
        "    imgpoints = []  # 2d points in image plane.\r\n",
        "\r\n",
        "    if dirpath[-1:] == '/':\r\n",
        "        dirpath = dirpath[:-1]\r\n",
        "\r\n",
        "    images = glob.glob(dirpath+'/' + prefix + '*.' + image_format)\r\n",
        "\r\n",
        "    for fname in images:\r\n",
        "        img = cv2.imread(fname)\r\n",
        "        gray = cv2.cvtColor(img, cv2.COLOR_BGR2GRAY)\r\n",
        "\r\n",
        "        # Find the chess board corners\r\n",
        "        ret, corners = cv2.findChessboardCorners(gray, (width, height), None)\r\n",
        "\r\n",
        "        # If found, add object points, image points (after refining them)\r\n",
        "        if ret:\r\n",
        "            objpoints.append(objp)\r\n",
        "\r\n",
        "            corners2 = cv2.cornerSubPix(gray, corners, (11, 11), (-1, -1), criteria)\r\n",
        "            imgpoints.append(corners2)\r\n",
        "\r\n",
        "            # Draw and display the corners\r\n",
        "            img = cv2.drawChessboardCorners(img, (width, height), corners2, ret)\r\n",
        "\r\n",
        "    ret, mtx, dist, rvecs, tvecs = cv2.calibrateCamera(objpoints, imgpoints, gray.shape[::-1], None, None)\r\n",
        "\r\n",
        "    return [ret, mtx, dist, rvecs, tvecs]"
      ],
      "execution_count": 17,
      "outputs": []
    },
    {
      "cell_type": "code",
      "metadata": {
        "id": "-GwMORtWZaKw"
      },
      "source": [
        "image_format ='jpg'\r\n",
        "square_size = 0.025\r\n",
        "image_dir = '/content/drive/MyDrive/UET/Kì 2 - năm 3 - 2020_2021/Computer Vision/Camera_calibration/Image'\r\n",
        "prefix = \"IMG\""
      ],
      "execution_count": 19,
      "outputs": []
    },
    {
      "cell_type": "code",
      "metadata": {
        "id": "piwbPEmYTucA"
      },
      "source": [
        "ret, mtx, dist, rvecs, tvecs = calibrate(image_dir, prefix, image_format, 0.025)"
      ],
      "execution_count": 21,
      "outputs": []
    },
    {
      "cell_type": "code",
      "metadata": {
        "colab": {
          "base_uri": "https://localhost:8080/"
        },
        "id": "6cfXRKyGat_q",
        "outputId": "f7608747-ecf9-4999-d6a9-9b9591f66ead"
      },
      "source": [
        "mtx\r\n",
        "# the camera matrix"
      ],
      "execution_count": 24,
      "outputs": [
        {
          "output_type": "execute_result",
          "data": {
            "text/plain": [
              "array([[3.04689491e+03, 0.00000000e+00, 1.52112164e+03],\n",
              "       [0.00000000e+00, 3.05732054e+03, 1.96020550e+03],\n",
              "       [0.00000000e+00, 0.00000000e+00, 1.00000000e+00]])"
            ]
          },
          "metadata": {
            "tags": []
          },
          "execution_count": 24
        }
      ]
    },
    {
      "cell_type": "code",
      "metadata": {
        "colab": {
          "base_uri": "https://localhost:8080/"
        },
        "id": "VVYLGAb8a2DS",
        "outputId": "87510efa-514f-45e3-d757-e66a21900d31"
      },
      "source": [
        "rvecs\r\n",
        "#rotation vec"
      ],
      "execution_count": 23,
      "outputs": [
        {
          "output_type": "execute_result",
          "data": {
            "text/plain": [
              "[array([[-0.13997347],\n",
              "        [ 0.45756157],\n",
              "        [-1.50791789]]), array([[-0.10707978],\n",
              "        [-0.34233599],\n",
              "        [-1.4378056 ]]), array([[ 0.01774344],\n",
              "        [-0.25245553],\n",
              "        [-1.52413827]]), array([[-0.48803795],\n",
              "        [ 0.23906502],\n",
              "        [-1.55948639]]), array([[ 0.16127504],\n",
              "        [ 0.27072939],\n",
              "        [-1.5743463 ]]), array([[-0.15720026],\n",
              "        [-0.02007885],\n",
              "        [-1.56973886]]), array([[-0.14191326],\n",
              "        [ 0.45761956],\n",
              "        [-1.50811721]]), array([[-0.13967407],\n",
              "        [ 0.46202984],\n",
              "        [-1.50860214]]), array([[-0.13895964],\n",
              "        [ 0.46074719],\n",
              "        [-1.50819078]]), array([[-0.35832816],\n",
              "        [-0.26177794],\n",
              "        [-1.53984953]]), array([[-0.14012284],\n",
              "        [ 0.46305338],\n",
              "        [-1.50781518]]), array([[-0.6266415 ],\n",
              "        [-0.22099672],\n",
              "        [-1.11942711]]), array([[-0.61734325],\n",
              "        [-0.21575674],\n",
              "        [-1.14576488]]), array([[-0.29593839],\n",
              "        [-0.26504618],\n",
              "        [-3.02645195]]), array([[-0.53429783],\n",
              "        [-0.05630082],\n",
              "        [ 0.02358376]]), array([[ 0.167228  ],\n",
              "        [-0.00810152],\n",
              "        [-1.72253874]]), array([[-0.44478183],\n",
              "        [ 0.86064594],\n",
              "        [ 1.84494036]])]"
            ]
          },
          "metadata": {
            "tags": []
          },
          "execution_count": 23
        }
      ]
    },
    {
      "cell_type": "code",
      "metadata": {
        "colab": {
          "base_uri": "https://localhost:8080/"
        },
        "id": "w-5GVnlAa8AP",
        "outputId": "0f50e22d-e879-40c1-eeb3-33a29999e2e6"
      },
      "source": [
        "tvecs\r\n",
        "#translation vectors"
      ],
      "execution_count": 25,
      "outputs": [
        {
          "output_type": "execute_result",
          "data": {
            "text/plain": [
              "[array([[-0.08407724],\n",
              "        [ 0.14178085],\n",
              "        [ 0.31176316]]), array([[-0.05506529],\n",
              "        [ 0.04735284],\n",
              "        [ 0.22618135]]), array([[-0.04063001],\n",
              "        [ 0.08741167],\n",
              "        [ 0.20284807]]), array([[-0.08082539],\n",
              "        [ 0.11247213],\n",
              "        [ 0.25620276]]), array([[-0.0652957 ],\n",
              "        [ 0.14559728],\n",
              "        [ 0.25912956]]), array([[-0.07287773],\n",
              "        [ 0.099303  ],\n",
              "        [ 0.23851358]]), array([[-0.08372124],\n",
              "        [ 0.14236143],\n",
              "        [ 0.31082731]]), array([[-0.08417917],\n",
              "        [ 0.14087542],\n",
              "        [ 0.31313439]]), array([[-0.08377003],\n",
              "        [ 0.14133397],\n",
              "        [ 0.31221111]]), array([[-0.07664213],\n",
              "        [ 0.05909236],\n",
              "        [ 0.1907257 ]]), array([[-0.08367116],\n",
              "        [ 0.14109388],\n",
              "        [ 0.31266992]]), array([[-0.10838034],\n",
              "        [ 0.01427724],\n",
              "        [ 0.29762145]]), array([[-0.1196953 ],\n",
              "        [ 0.01264152],\n",
              "        [ 0.29882553]]), array([[ 0.1270744 ],\n",
              "        [-0.00982493],\n",
              "        [ 0.24714431]]), array([[-0.04259958],\n",
              "        [-0.13585641],\n",
              "        [ 0.33325259]]), array([[-0.02173766],\n",
              "        [ 0.14709709],\n",
              "        [ 0.26128831]]), array([[ 0.07016379],\n",
              "        [-0.04058573],\n",
              "        [ 0.41908081]])]"
            ]
          },
          "metadata": {
            "tags": []
          },
          "execution_count": 25
        }
      ]
    },
    {
      "cell_type": "code",
      "metadata": {
        "colab": {
          "base_uri": "https://localhost:8080/"
        },
        "id": "39q4uE4SbPYM",
        "outputId": "49afdf43-8511-442e-c6fd-885558c0fb83"
      },
      "source": [
        "type(tvecs)"
      ],
      "execution_count": 26,
      "outputs": [
        {
          "output_type": "execute_result",
          "data": {
            "text/plain": [
              "list"
            ]
          },
          "metadata": {
            "tags": []
          },
          "execution_count": 26
        }
      ]
    },
    {
      "cell_type": "code",
      "metadata": {
        "id": "vkjVAwv6bqpR"
      },
      "source": [
        "import numpy as np"
      ],
      "execution_count": 37,
      "outputs": []
    },
    {
      "cell_type": "code",
      "metadata": {
        "colab": {
          "base_uri": "https://localhost:8080/"
        },
        "id": "o2wdmQrZblTL",
        "outputId": "eac10ae5-7c2d-49d3-d14b-bda91d0c5ea9"
      },
      "source": [
        "matrix_1 = mtx.dot(rvecs[0])\r\n",
        "matrix_1"
      ],
      "execution_count": 33,
      "outputs": [
        {
          "output_type": "execute_result",
          "data": {
            "text/plain": [
              "array([[-2.72021099e+03],\n",
              "       [-1.55691655e+03],\n",
              "       [-1.50791789e+00]])"
            ]
          },
          "metadata": {
            "tags": []
          },
          "execution_count": 33
        }
      ]
    },
    {
      "cell_type": "code",
      "metadata": {
        "colab": {
          "base_uri": "https://localhost:8080/"
        },
        "id": "sgb-nXaUc0tB",
        "outputId": "6cdfe7f7-8346-49e4-82c6-9aa18a362ba6"
      },
      "source": [
        "matrix_2 = np.transpose(tvecs[0])\r\n",
        "matrix_2"
      ],
      "execution_count": 40,
      "outputs": [
        {
          "output_type": "execute_result",
          "data": {
            "text/plain": [
              "array([[-0.08407724,  0.14178085,  0.31176316]])"
            ]
          },
          "metadata": {
            "tags": []
          },
          "execution_count": 40
        }
      ]
    },
    {
      "cell_type": "code",
      "metadata": {
        "colab": {
          "base_uri": "https://localhost:8080/"
        },
        "id": "va6fiMB-bwcn",
        "outputId": "8d488c03-a542-4577-a7e6-88d0a3e2010e"
      },
      "source": [
        "coordinate_room =  (matrix_1).dot(matrix_2) \r\n",
        "coordinate_room"
      ],
      "execution_count": 41,
      "outputs": [
        {
          "output_type": "execute_result",
          "data": {
            "text/plain": [
              "array([[ 2.28707819e+02, -3.85673836e+02, -8.48061579e+02],\n",
              "       [ 1.30901239e+02, -2.20740957e+02, -4.85389226e+02],\n",
              "       [ 1.26781567e-01, -2.13793885e-01, -4.70113249e-01]])"
            ]
          },
          "metadata": {
            "tags": []
          },
          "execution_count": 41
        }
      ]
    }
  ]
}